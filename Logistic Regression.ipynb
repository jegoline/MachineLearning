{
 "cells": [
  {
   "cell_type": "code",
   "execution_count": 2,
   "metadata": {
    "collapsed": true
   },
   "outputs": [],
   "source": [
    "import matplotlib.pyplot as plt\n",
    "%matplotlib inline\n",
    "import numpy as np\n",
    "import pandas as pd"
   ]
  },
  {
   "cell_type": "code",
   "execution_count": 3,
   "metadata": {
    "collapsed": true
   },
   "outputs": [],
   "source": [
    "df=pd.read_csv('log_regr.txt', sep=' ',header=None)"
   ]
  },
  {
   "cell_type": "code",
   "execution_count": 7,
   "metadata": {
    "collapsed": false
   },
   "outputs": [
    {
     "data": {
      "text/plain": [
       "Int64Index([0, 1, 2], dtype='int64')"
      ]
     },
     "execution_count": 7,
     "metadata": {},
     "output_type": "execute_result"
    }
   ],
   "source": [
    "df.columns"
   ]
  },
  {
   "cell_type": "code",
   "execution_count": 12,
   "metadata": {
    "collapsed": false
   },
   "outputs": [
    {
     "data": {
      "image/png": "[encoded data removed]",
      "text/plain": [
       "<matplotlib.figure.Figure at 0xd59b2b0>"
      ]
     },
     "metadata": {},
     "output_type": "display_data"
    }
   ],
   "source": [
    "plt.scatter(df[0], df[1])\n",
    "plt.show()"
   ]
  },
  {
   "cell_type": "code",
   "execution_count": 30,
   "metadata": {
    "collapsed": true
   },
   "outputs": [],
   "source": [
    "def sigmoid(z):\n",
    "    return 1/(1 + np.exp(-z))"
   ]
  },
  {
   "cell_type": "code",
   "execution_count": 31,
   "metadata": {
    "collapsed": true
   },
   "outputs": [],
   "source": [
    "def calc_hypo (parameters, x, y):\n",
    "    return sigmoid(parameters[0] + parameters[1] * x + parameters[2] * y)"
   ]
  },
  {
   "cell_type": "code",
   "execution_count": 32,
   "metadata": {
    "collapsed": true
   },
   "outputs": [],
   "source": [
    "def cost_func(dataFrame, parameters):\n",
    "    l= 0\n",
    "    for index, row in dataFrame.iterrows():\n",
    "        h = calc_hypo(parameters, row[0], row[1])\n",
    "        l += row[2]*np.log(h) + (1 - row[2])*np.log(1-h)\n",
    "    return l/len(dataFrame)"
   ]
  },
  {
   "cell_type": "code",
   "execution_count": 80,
   "metadata": {
    "collapsed": true
   },
   "outputs": [],
   "source": [
    "def logistic_regression(dataFrame, parameters, alpha):\n",
    "    cost_prev = 0\n",
    "    cost = cost_func (dataFrame, parameters)\n",
    "    for iter in range(100):\n",
    "        for index, row in dataFrame.iterrows():\n",
    "            h = calc_hypo (parameters, row[0], row[1])\n",
    "            parameters[0] += alpha * (row[2] - h) \n",
    "            parameters[1] += alpha * (row[2] - h) * row[0]\n",
    "            parameters[2] += alpha * (row[2] - h) * row[1]\n",
    "        cost_new = cost_func (dataFrame, parameters)\n",
    "        if((cost_new - cost) < 0.01 * (cost - cost_prev)):\n",
    "            return parameters\n",
    "    return parameters"
   ]
  },
  {
   "cell_type": "code",
   "execution_count": 81,
   "metadata": {
    "collapsed": true
   },
   "outputs": [],
   "source": [
    "def model_point(x, parameters):\n",
    "    return -(parameters[0] + parameters[1] * x)/parameters[2]"
   ]
  },
  {
   "cell_type": "code",
   "execution_count": 92,
   "metadata": {
    "collapsed": false
   },
   "outputs": [],
   "source": [
    "parameters = np.random.uniform(-0.01, 0.01, 3)\n",
    "trained_parameters = np.copy(parameters)"
   ]
  },
  {
   "cell_type": "code",
   "execution_count": 203,
   "metadata": {
    "collapsed": false
   },
   "outputs": [],
   "source": [
    "trained_parameters = np.copy(parameters)\n",
    "trained_parameters = logistic_regression(df, trained_parameters, 1.3)"
   ]
  },
  {
   "cell_type": "code",
   "execution_count": 204,
   "metadata": {
    "collapsed": false
   },
   "outputs": [
    {
     "name": "stdout",
     "output_type": "stream",
     "text": [
      "[ 0.00737924  0.00288994 -0.00466296]\n",
      "[ 18.3113075   -3.50855949   7.44295048]\n"
     ]
    }
   ],
   "source": [
    "print parameters\n",
    "print trained_parameters"
   ]
  },
  {
   "cell_type": "code",
   "execution_count": null,
   "metadata": {
    "collapsed": false
   },
   "outputs": [],
   "source": [
    ""
   ]
  },
  {
   "cell_type": "code",
   "execution_count": 205,
   "metadata": {
    "collapsed": false
   },
   "outputs": [],
   "source": [
    "fig_size = [0,0]\n",
    "fig_size[0] = 10\n",
    "fig_size[1] = 7\n",
    "plt.rcParams[\"figure.figsize\"] = fig_size\n",
    "\n",
    "line1, = plt.plot([-4, 5], [model_point(-4, parameters), model_point(5, parameters)],'b-', label='Initial model')\n",
    "line2, = plt.plot([-4, 5], [model_point(-4, trained_parameters), model_point(5, trained_parameters)],'k-', label = 'Trained model')\n",
    "\n",
    "pos_df = df.loc[df[2] == 1]\n",
    "neg_df = df.loc[df[2] == 0]\n",
    "\n",
    "line3 = plt.scatter(pos_df[0], pos_df[1], facecolors='none', marker='+', edgecolors='g', label ='Pos data points')\n",
    "line4 = plt.scatter(neg_df[0], neg_df[1], facecolors='none', edgecolors='r', label = 'Neg data points')\n",
    "\n",
    "axes = plt.gca()\n",
    "axes.set_xlim([-4, 5])\n",
    "axes.set_ylim([-8, 4])\n",
    "\n",
    "legend = plt.legend(handles=[line1, line2, line3, line4], loc=1)\n",
    "plt.show()"
   ]
  },
  {
   "cell_type": "code",
   "execution_count": 206,
   "metadata": {
    "collapsed": false
   },
   "outputs": [],
   "source": [
    "print parameters\n",
    "print trained_parameters\n",
    "print cost_func(df, trained_parameters)"
   ]
  },
  {
   "cell_type": "code",
   "execution_count": null,
   "metadata": {
    "collapsed": true
   },
   "outputs": [],
   "source": [
    "stops improving\n",
    "1.3 -0.00167509829016\n",
    "1.2 -0.00181900023992\n",
    "1.1 -0.00199835624041\n",
    "1 -0.00219674107781\n",
    "0.9 -0.00242330616229\n",
    "0.1 -0.0105517211685\n",
    "0.05 -0.0159056854238\n",
    "0.02 -0.0275461702364\n",
    "0.01 -0.0421795765282\n",
    "0.008 -0.0485041674153\n",
    "0.005 -0.0653630216966"
   ]
  },
  {
   "cell_type": "code",
   "execution_count": null,
   "metadata": {},
   "outputs": [],
   "source": [
    ""
   ]
  }
 ],
 "metadata": {
  "kernelspec": {
   "display_name": "Python 2",
   "language": "python",
   "name": "python2"
  },
  "language_info": {
   "codemirror_mode": {
    "name": "ipython",
    "version": 2.0
   },
   "file_extension": ".py",
   "mimetype": "text/x-python",
   "name": "python",
   "nbconvert_exporter": "python",
   "pygments_lexer": "ipython2",
   "version": "2.7.10"
  }
 },
 "nbformat": 4,
 "nbformat_minor": 0
}