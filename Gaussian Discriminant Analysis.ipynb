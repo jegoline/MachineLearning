{
 "cells": [
  {
   "cell_type": "code",
   "execution_count": 1,
   "metadata": {
    "collapsed": true
   },
   "outputs": [],
   "source": [
    "import numpy as np\n",
    "import matplotlib.pyplot as plt\n",
    "import os\n",
    "from skimage import io\n",
    "from skimage.io import imread_collection\n",
    "%matplotlib inline"
   ]
  },
  {
   "cell_type": "code",
   "execution_count": 65,
   "metadata": {},
   "outputs": [],
   "source": [
    "pos_dir = 'ex3_data/positives/positives/*.png'\n",
    "neg_dir = 'ex3_data/negatives/negatives/*.png'\n",
    "\n",
    "\n",
    "negatives = imread_collection(neg_dir)\n",
    "positives = imread_collection(pos_dir)"
   ]
  },
  {
   "cell_type": "code",
   "execution_count": 71,
   "metadata": {},
   "outputs": [
    {
     "data": {
      "text/plain": [
       "<matplotlib.image.AxesImage at 0x1ad03662550>"
      ]
     },
     "execution_count": 71,
     "metadata": {},
     "output_type": "execute_result"
    },
    {
     "data": {
      "image/png": "[encoded data removed]",
      "text/plain": [
       "<matplotlib.figure.Figure at 0x1ad0497d630>"
      ]
     },
     "metadata": {},
     "output_type": "display_data"
    }
   ],
   "source": [
    "plt.imshow(positives[0])"
   ]
  },
  {
   "cell_type": "code",
   "execution_count": 206,
   "metadata": {},
   "outputs": [],
   "source": [
    "def extract_features(im):\n",
    "    im = np.mean(im, axis=2)\n",
    "    plt.imshow(im)\n",
    "    hist,_ = np.histogram(im, bins=5, range=None, normed=False, weights=None, density=None)\n",
    "    features = []\n",
    "    \n",
    "    features.append(np.mean(im))\n",
    "    features.append(np.max(im))\n",
    "    features.append(np.min(im))\n",
    "    \n",
    "    return features"
   ]
  },
  {
   "cell_type": "code",
   "execution_count": 195,
   "metadata": {},
   "outputs": [],
   "source": [
    "pos_features = [extract_features(i) for i in positives]\n",
    "neg_features = [extract_features(i) for i in negatives]"
   ]
  },
  {
   "cell_type": "code",
   "execution_count": 207,
   "metadata": {},
   "outputs": [
    {
     "data": {
      "text/plain": [
       "[160.40972222222223, 181.0, 103.0]"
      ]
     },
     "execution_count": 207,
     "metadata": {},
     "output_type": "execute_result"
    },
    {
     "data": {
      "image/png": "[encoded data removed]",
      "text/plain": [
       "<matplotlib.figure.Figure at 0x1ad04efae80>"
      ]
     },
     "metadata": {},
     "output_type": "display_data"
    }
   ],
   "source": [
    "extract_features(positives[0])"
   ]
  },
  {
   "cell_type": "code",
   "execution_count": 208,
   "metadata": {},
   "outputs": [],
   "source": [
    "def mean(features):\n",
    "    return np.mean(features, axis=0)"
   ]
  },
  {
   "cell_type": "code",
   "execution_count": 209,
   "metadata": {
    "collapsed": true
   },
   "outputs": [],
   "source": [
    "mean_pos = mean(pos_features)\n",
    "mean_neg = mean(neg_features)"
   ]
  },
  {
   "cell_type": "code",
   "execution_count": 210,
   "metadata": {},
   "outputs": [
    {
     "name": "stdout",
     "output_type": "stream",
     "text": [
      "[ 152.87141204  181.61111111   87.84444444]\n",
      "[ 139.29417438  160.86666667  118.63333333]\n"
     ]
    }
   ],
   "source": [
    "print(mean_pos)\n",
    "print(mean_neg)"
   ]
  },
  {
   "cell_type": "code",
   "execution_count": 211,
   "metadata": {
    "collapsed": true
   },
   "outputs": [],
   "source": [
    "def compute_covariance_subroutine(features_mx, mean):\n",
    "    cov_mx = np.zeros((len(mean), len(mean)))\n",
    "    vecs = features_mx - mean\n",
    "    for vec in vecs:\n",
    "        mx = np.outer(vec, vec)\n",
    "        cov_mx = cov_mx + mx\n",
    "    return cov_mx\n",
    "\n",
    "def compute_covariance_matrix(features_mx1, mean1, features_mx2, mean2):\n",
    "    cov_mx1 = compute_covariance_subroutine(features_mx1, mean1)\n",
    "    cov_mx2 = compute_covariance_subroutine(features_mx2, mean2)\n",
    "    \n",
    "    return (cov_mx1 + cov_mx2)/(len(features_mx1) + len(features_mx2))"
   ]
  },
  {
   "cell_type": "code",
   "execution_count": 212,
   "metadata": {},
   "outputs": [],
   "source": [
    "E = compute_covariance_matrix(pos_features, mean_pos, neg_features, mean_neg)\n",
    "invE = np.linalg.inv(E)"
   ]
  },
  {
   "cell_type": "code",
   "execution_count": 213,
   "metadata": {
    "collapsed": true
   },
   "outputs": [],
   "source": [
    "def compute_probability(features, mean, inv_covariance):\n",
    "    vec = features - mean\n",
    "    p = np.dot(vec, inv_covariance)\n",
    "    p = np.dot(p, vec)\n",
    "    p = - p/2\n",
    "    return np.exp(p)"
   ]
  },
  {
   "cell_type": "code",
   "execution_count": null,
   "metadata": {},
   "outputs": [],
   "source": []
  },
  {
   "cell_type": "code",
   "execution_count": 214,
   "metadata": {},
   "outputs": [
    {
     "name": "stdout",
     "output_type": "stream",
     "text": [
      "0\n",
      "0\n"
     ]
    }
   ],
   "source": [
    "false_negatives = 0\n",
    "false_positives = 0\n",
    "\n",
    "bad_pos = []\n",
    "bad_neg = []\n",
    "\n",
    "for i in range(len(pos_features)):\n",
    "    pP = compute_probability(pos_features[i], mean_pos, invE)\n",
    "    nP = compute_probability(pos_features[i], mean_neg, invE)\n",
    "    \n",
    "    if pP < nP:\n",
    "        false_negatives += 1\n",
    "        bad_neg.append(i)\n",
    "        \n",
    "for i in range(0, len(neg_features)):\n",
    "    pP = compute_probability(neg_features[i], mean_pos, invE)\n",
    "    nP = compute_probability(neg_features[i], mean_neg, invE)\n",
    "\n",
    "    if pP > nP:\n",
    "        false_positives = false_positives + 1\n",
    "        bad_pos.append(i)\n",
    "        \n",
    "print (false_negatives)\n",
    "print (false_positives)"
   ]
  },
  {
   "cell_type": "code",
   "execution_count": 215,
   "metadata": {},
   "outputs": [
    {
     "ename": "IndexError",
     "evalue": "list index out of range",
     "output_type": "error",
     "traceback": [
      "\u001b[1;31m---------------------------------------------------------------------------\u001b[0m",
      "\u001b[1;31mIndexError\u001b[0m                                Traceback (most recent call last)",
      "\u001b[1;32m<ipython-input-215-3daec775e131>\u001b[0m in \u001b[0;36m<module>\u001b[1;34m()\u001b[0m\n\u001b[1;32m----> 1\u001b[1;33m \u001b[0mplt\u001b[0m\u001b[1;33m.\u001b[0m\u001b[0mimshow\u001b[0m\u001b[1;33m(\u001b[0m\u001b[0mnegatives\u001b[0m\u001b[1;33m[\u001b[0m\u001b[0mbad_pos\u001b[0m\u001b[1;33m[\u001b[0m\u001b[1;36m0\u001b[0m\u001b[1;33m]\u001b[0m\u001b[1;33m]\u001b[0m\u001b[1;33m)\u001b[0m\u001b[1;33m\u001b[0m\u001b[0m\n\u001b[0m",
      "\u001b[1;31mIndexError\u001b[0m: list index out of range"
     ]
    }
   ],
   "source": [
    "plt.imshow(negatives[bad_pos[0]])"
   ]
  },
  {
   "cell_type": "code",
   "execution_count": 216,
   "metadata": {},
   "outputs": [
    {
     "name": "stdout",
     "output_type": "stream",
     "text": [
      "[[ 0.03669633 -0.02402913 -0.01830397]\n",
      " [-0.02402913  0.02609394  0.00677018]\n",
      " [-0.01830397  0.00677018  0.01830666]]\n"
     ]
    }
   ],
   "source": [
    "print(invE)"
   ]
  },
  {
   "cell_type": "code",
   "execution_count": null,
   "metadata": {
    "collapsed": true
   },
   "outputs": [],
   "source": []
  }
 ],
 "metadata": {
  "kernelspec": {
   "display_name": "Python 3",
   "language": "python",
   "name": "python3"
  },
  "language_info": {
   "codemirror_mode": {
    "name": "ipython",
    "version": 3
   },
   "file_extension": ".py",
   "mimetype": "text/x-python",
   "name": "python",
   "nbconvert_exporter": "python",
   "pygments_lexer": "ipython3",
   "version": "3.5.3"
  }
 },
 "nbformat": 4,
 "nbformat_minor": 2
}
