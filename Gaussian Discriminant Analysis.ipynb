{
 "cells": [
  {
   "cell_type": "code",
   "execution_count": 1,
   "metadata": {
    "collapsed": true
   },
   "outputs": [],
   "source": [
    "import numpy as np\n",
    "import matplotlib.pyplot as plt\n",
    "import os\n",
    "from skimage import io\n",
    "from skimage.io import imread_collection\n",
    "%matplotlib inline"
   ]
  },
  {
   "cell_type": "code",
   "execution_count": 2,
   "metadata": {
    "collapsed": true
   },
   "outputs": [],
   "source": [
    "pos_dir = 'ex3_data/positives/positives/*.png'\n",
    "neg_dir = 'ex3_data/negatives/negatives/*.png'\n",
    "\n",
    "\n",
    "negatives = imread_collection(neg_dir)\n",
    "positives = imread_collection(pos_dir)"
   ]
  },
  {
   "cell_type": "code",
   "execution_count": 3,
   "metadata": {},
   "outputs": [
    {
     "data": {
      "text/plain": [
       "<matplotlib.image.AxesImage at 0x165d301d3c8>"
      ]
     },
     "execution_count": 3,
     "metadata": {},
     "output_type": "execute_result"
    },
    {
     "data": {
      "image/png": "[encoded data removed]",
      "text/plain": [
       "<matplotlib.figure.Figure at 0x165d338fb38>"
      ]
     },
     "metadata": {},
     "output_type": "display_data"
    }
   ],
   "source": [
    "plt.imshow(positives[0])"
   ]
  },
  {
   "cell_type": "code",
   "execution_count": 46,
   "metadata": {
    "collapsed": true
   },
   "outputs": [],
   "source": [
    "def extract_features(im):\n",
    "    im = np.mean(im, axis=2)\n",
    "    plt.imshow(im)\n",
    "    hist,_ = np.histogram(im, bins=5, range=None, normed=False, weights=None, density=None)\n",
    "    features = []\n",
    "    \n",
    "    features.append(np.mean(im))\n",
    "    features.append(np.max(im))\n",
    "    features.append(np.min(im))\n",
    "    \n",
    "    return features"
   ]
  },
  {
   "cell_type": "code",
   "execution_count": 47,
   "metadata": {},
   "outputs": [
    {
     "data": {
      "image/png": "[encoded data removed]",
      "text/plain": [
       "<matplotlib.figure.Figure at 0x165d5ba3f98>"
      ]
     },
     "metadata": {},
     "output_type": "display_data"
    }
   ],
   "source": [
    "pos_features = [extract_features(i) for i in positives]\n",
    "neg_features = [extract_features(i) for i in negatives]"
   ]
  },
  {
   "cell_type": "code",
   "execution_count": 48,
   "metadata": {
    "collapsed": true
   },
   "outputs": [],
   "source": [
    "pos_features_train = pos_features[7:]\n",
    "neg_features_train = neg_features[7:]"
   ]
  },
  {
   "cell_type": "code",
   "execution_count": 49,
   "metadata": {
    "collapsed": true
   },
   "outputs": [],
   "source": [
    "pos_features_test = pos_features[:7]\n",
    "neg_features_test = neg_features[:7]"
   ]
  },
  {
   "cell_type": "code",
   "execution_count": 50,
   "metadata": {},
   "outputs": [
    {
     "name": "stdout",
     "output_type": "stream",
     "text": [
      "7\n",
      "23\n"
     ]
    }
   ],
   "source": [
    "print(len(pos_features_test))\n",
    "print(len(pos_features_train))"
   ]
  },
  {
   "cell_type": "code",
   "execution_count": 51,
   "metadata": {},
   "outputs": [
    {
     "data": {
      "text/plain": [
       "[131.77372685185185, 153.33333333333334, 114.33333333333333]"
      ]
     },
     "execution_count": 51,
     "metadata": {},
     "output_type": "execute_result"
    },
    {
     "data": {
      "image/png": "[encoded data removed]",
      "text/plain": [
       "<matplotlib.figure.Figure at 0x165d5ba3390>"
      ]
     },
     "metadata": {},
     "output_type": "display_data"
    }
   ],
   "source": [
    "extract_features(negatives[6])"
   ]
  },
  {
   "cell_type": "code",
   "execution_count": 52,
   "metadata": {},
   "outputs": [
    {
     "data": {
      "text/plain": [
       "[153.93113425925924, 183.0, 87.0]"
      ]
     },
     "execution_count": 52,
     "metadata": {},
     "output_type": "execute_result"
    },
    {
     "data": {
      "image/png": "[encoded data removed]",
      "text/plain": [
       "<matplotlib.figure.Figure at 0x165d5bebe80>"
      ]
     },
     "metadata": {},
     "output_type": "display_data"
    }
   ],
   "source": [
    "extract_features(positives[6])"
   ]
  },
  {
   "cell_type": "code",
   "execution_count": 53,
   "metadata": {},
   "outputs": [
    {
     "data": {
      "text/plain": [
       "<matplotlib.image.AxesImage at 0x165d6f28400>"
      ]
     },
     "execution_count": 53,
     "metadata": {},
     "output_type": "execute_result"
    },
    {
     "data": {
      "image/png": "[encoded data removed]",
      "text/plain": [
       "<matplotlib.figure.Figure at 0x165d6ed2eb8>"
      ]
     },
     "metadata": {},
     "output_type": "display_data"
    }
   ],
   "source": [
    "plt.imshow(positives[6])"
   ]
  },
  {
   "cell_type": "code",
   "execution_count": 54,
   "metadata": {
    "collapsed": true
   },
   "outputs": [],
   "source": [
    "def mean(features):\n",
    "    return np.mean(features, axis=0)"
   ]
  },
  {
   "cell_type": "code",
   "execution_count": 55,
   "metadata": {
    "collapsed": true
   },
   "outputs": [],
   "source": [
    "mean_pos = mean(pos_features_train)\n",
    "mean_neg = mean(neg_features_train)"
   ]
  },
  {
   "cell_type": "code",
   "execution_count": 56,
   "metadata": {},
   "outputs": [
    {
     "name": "stdout",
     "output_type": "stream",
     "text": [
      "[ 151.38564312  181.11594203   86.52173913]\n",
      "[ 141.2172655   162.15942029  120.62318841]\n"
     ]
    }
   ],
   "source": [
    "print(mean_pos)\n",
    "print(mean_neg)"
   ]
  },
  {
   "cell_type": "code",
   "execution_count": 57,
   "metadata": {
    "collapsed": true
   },
   "outputs": [],
   "source": [
    "def compute_covariance_subroutine(features_mx, mean):\n",
    "    cov_mx = np.zeros((len(mean), len(mean)))\n",
    "    vecs = features_mx - mean\n",
    "    for vec in vecs:\n",
    "        mx = np.outer(vec, vec)\n",
    "        cov_mx = cov_mx + mx\n",
    "    return cov_mx\n",
    "\n",
    "def compute_covariance_matrix(features_mx1, mean1, features_mx2, mean2):\n",
    "    cov_mx1 = compute_covariance_subroutine(features_mx1, mean1)\n",
    "    cov_mx2 = compute_covariance_subroutine(features_mx2, mean2)\n",
    "    \n",
    "    return (cov_mx1 + cov_mx2)/(len(features_mx1) + len(features_mx2))"
   ]
  },
  {
   "cell_type": "code",
   "execution_count": 58,
   "metadata": {
    "collapsed": true
   },
   "outputs": [],
   "source": [
    "E = compute_covariance_matrix(pos_features_train, mean_pos, neg_features_train, mean_neg)\n",
    "invE = np.linalg.inv(E)"
   ]
  },
  {
   "cell_type": "code",
   "execution_count": 59,
   "metadata": {
    "collapsed": true
   },
   "outputs": [],
   "source": [
    "def compute_probability(features, mean, inv_covariance):\n",
    "    vec = features - mean\n",
    "    p = np.dot(vec, inv_covariance)\n",
    "    p = np.dot(p, vec)\n",
    "    p = - p/2\n",
    "    return np.exp(p)"
   ]
  },
  {
   "cell_type": "code",
   "execution_count": null,
   "metadata": {
    "collapsed": true
   },
   "outputs": [],
   "source": []
  },
  {
   "cell_type": "code",
   "execution_count": 62,
   "metadata": {},
   "outputs": [
    {
     "name": "stdout",
     "output_type": "stream",
     "text": [
      "0\n",
      "0\n"
     ]
    }
   ],
   "source": [
    "false_negatives = 0\n",
    "false_positives = 0\n",
    "\n",
    "bad_pos = []\n",
    "bad_neg = []\n",
    "\n",
    "for i in range(len(pos_features_train)):\n",
    "    pP = compute_probability(pos_features_train[i], mean_pos, invE)\n",
    "    nP = compute_probability(pos_features_train[i], mean_neg, invE)\n",
    "    \n",
    "    if pP < nP:\n",
    "        false_negatives += 1\n",
    "        bad_neg.append(i)\n",
    "        \n",
    "for i in range(0, len(neg_features_train)):\n",
    "    pP = compute_probability(neg_features_train[i], mean_pos, invE)\n",
    "    nP = compute_probability(neg_features_train[i], mean_neg, invE)\n",
    "\n",
    "    if pP > nP:\n",
    "        false_positives = false_positives + 1\n",
    "        bad_pos.append(i)\n",
    "        \n",
    "print (false_negatives)\n",
    "print (false_positives)"
   ]
  },
  {
   "cell_type": "code",
   "execution_count": 45,
   "metadata": {},
   "outputs": [
    {
     "data": {
      "text/plain": [
       "<matplotlib.image.AxesImage at 0x165d6d29198>"
      ]
     },
     "execution_count": 45,
     "metadata": {},
     "output_type": "execute_result"
    },
    {
     "data": {
      "image/png": "[encoded data removed]",
      "text/plain": [
       "<matplotlib.figure.Figure at 0x165d5c01908>"
      ]
     },
     "metadata": {},
     "output_type": "display_data"
    }
   ],
   "source": [
    "plt.imshow(negatives[bad_pos[0]])"
   ]
  },
  {
   "cell_type": "code",
   "execution_count": 61,
   "metadata": {},
   "outputs": [
    {
     "name": "stdout",
     "output_type": "stream",
     "text": [
      "[[ 189.10542365  142.07365509  133.18681737]\n",
      " [ 142.07365509  157.39361479   85.99495904]\n",
      " [ 133.18681737   85.99495904  156.23251418]]\n"
     ]
    }
   ],
   "source": [
    "print(E)"
   ]
  },
  {
   "cell_type": "code",
   "execution_count": null,
   "metadata": {
    "collapsed": true
   },
   "outputs": [],
   "source": []
  }
 ],
 "metadata": {
  "kernelspec": {
   "display_name": "Python 3",
   "language": "python",
   "name": "python3"
  },
  "language_info": {
   "codemirror_mode": {
    "name": "ipython",
    "version": 3
   },
   "file_extension": ".py",
   "mimetype": "text/x-python",
   "name": "python",
   "nbconvert_exporter": "python",
   "pygments_lexer": "ipython3",
   "version": "3.5.3"
  }
 },
 "nbformat": 4,
 "nbformat_minor": 1
}
