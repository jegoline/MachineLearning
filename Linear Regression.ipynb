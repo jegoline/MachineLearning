{
 "cells": [
  {
   "cell_type": "markdown",
   "metadata": {},
   "source": [
    "## Generate Data"
   ]
  },
  {
   "cell_type": "code",
   "execution_count": 1,
   "metadata": {
    "collapsed": false
   },
   "outputs": [],
   "source": [
    "import matplotlib.pyplot as plt\n",
    "%matplotlib inline\n",
    "import numpy as np\n",
    "\n",
    "\n",
    "x = np.random.rand (100)\n",
    "y = 2 + np.sin(2 * np.pi * x) + np.random.uniform(-0.1, 0.1, len(x))"
   ]
  },
  {
   "cell_type": "code",
   "execution_count": 2,
   "metadata": {
    "collapsed": false
   },
   "outputs": [],
   "source": [
    "len(x)\n",
    "test_set_x = np.random.rand (20)\n",
    "test_set_y = 2 + np.sin(2 * np.pi * test_set_x) + np.random.uniform(-0.1, 0.1, len(test_set_x))"
   ]
  },
  {
   "cell_type": "code",
   "execution_count": 3,
   "metadata": {
    "collapsed": false
   },
   "outputs": [
    {
     "data": {
      "text/plain": [
       "[<matplotlib.lines.Line2D at 0xabb4320>]"
      ]
     },
     "execution_count": 3,
     "metadata": {},
     "output_type": "execute_result"
    },
    {
     "data": {
      "image/png": "[encoded data removed]",
      "text/plain": [
       "<matplotlib.figure.Figure at 0xa95a320>"
      ]
     },
     "metadata": {},
     "output_type": "display_data"
    }
   ],
   "source": [
    "plt.plot(x, y,'.')"
   ]
  },
  {
   "cell_type": "code",
   "execution_count": 4,
   "metadata": {
    "collapsed": false
   },
   "outputs": [
    {
     "data": {
      "text/plain": [
       "[<matplotlib.lines.Line2D at 0xac5c358>]"
      ]
     },
     "execution_count": 4,
     "metadata": {},
     "output_type": "execute_result"
    },
    {
     "data": {
      "image/png": "[encoded data removed]",
      "text/plain": [
       "<matplotlib.figure.Figure at 0xaae1dd8>"
      ]
     },
     "metadata": {},
     "output_type": "display_data"
    }
   ],
   "source": [
    "plt.plot(test_set_x, test_set_y,'.')"
   ]
  },
  {
   "cell_type": "code",
   "execution_count": 5,
   "metadata": {
    "collapsed": true
   },
   "outputs": [],
   "source": [
    "## Linear regression"
   ]
  },
  {
   "cell_type": "code",
   "execution_count": 41,
   "metadata": {
    "collapsed": true
   },
   "outputs": [],
   "source": [
    "def calc_hypo (parameters, x):\n",
    "    hypo = parameters [0]\n",
    "    powered_x = x\n",
    "    for i in range(1, len(parameters)):\n",
    "        hypo = hypo + powered_x * parameters[i]\n",
    "        powered_x = powered_x * x\n",
    "    return hypo\n",
    "\n",
    "def linear_regression(xs, ys, num_param, alpha):\n",
    "    parameters = [0] * num_param\n",
    "    for iter in range(100000):\n",
    "        for j in range(len(xs)):\n",
    "            # calculate hyporthesis\n",
    "            x = xs[j]\n",
    "            hypo = calc_hypo (parameters, x)\n",
    "        \n",
    "            # update parameters\n",
    "            powered_x = 1\n",
    "            for i in range(len(parameters)): \n",
    "                parameters[i] = parameters[i] + alpha * (ys[j] - hypo) * powered_x \n",
    "                powered_x = powered_x * x\n",
    "    \n",
    "    return parameters"
   ]
  },
  {
   "cell_type": "code",
   "execution_count": 42,
   "metadata": {
    "collapsed": true
   },
   "outputs": [],
   "source": [
    "def error(test_set_x, test_set_y, parameters):\n",
    "    error = 0\n",
    "    for j in range(len(test_set_x)):\n",
    "        hypo = calc_hypo (parameters, test_set_x[j])\n",
    "        error =  error + np.power((hypo - test_set_y[j]), 2)\n",
    "    return error/2   \n",
    "    "
   ]
  },
  {
   "cell_type": "code",
   "execution_count": 43,
   "metadata": {
    "collapsed": false
   },
   "outputs": [
    {
     "name": "stdout",
     "output_type": "stream",
     "text": [
      "4.89507547311\n",
      "1.85106316072\n",
      "2.06649930561\n",
      "0.0703831843563\n",
      "0.0346627149414\n",
      "0.0339148551437\n",
      "0.0234615091775\n",
      "0.0346390684018\n",
      "0.047886196163\n"
     ]
    },
    {
     "ename": "KeyboardInterrupt",
     "evalue": "",
     "output_type": "error",
     "traceback": [
      "\u001b[1;31m---------------------------------------------------------------------------\u001b[0m",
      "\u001b[1;31mKeyboardInterrupt\u001b[0m                         Traceback (most recent call last)",
      "\u001b[1;32m<ipython-input-43-93ad4b92d735>\u001b[0m in \u001b[0;36m<module>\u001b[1;34m()\u001b[0m\n\u001b[0;32m      4\u001b[0m \u001b[1;33m\u001b[0m\u001b[0m\n\u001b[0;32m      5\u001b[0m \u001b[1;32mfor\u001b[0m \u001b[0mpolynom\u001b[0m \u001b[1;32min\u001b[0m \u001b[0mrange\u001b[0m\u001b[1;33m(\u001b[0m\u001b[1;36m1\u001b[0m\u001b[1;33m,\u001b[0m \u001b[1;36m25\u001b[0m\u001b[1;33m)\u001b[0m\u001b[1;33m:\u001b[0m\u001b[1;33m\u001b[0m\u001b[0m\n\u001b[1;32m----> 6\u001b[1;33m     \u001b[0mparameters\u001b[0m \u001b[1;33m=\u001b[0m \u001b[0mlinear_regression\u001b[0m \u001b[1;33m(\u001b[0m\u001b[0mx\u001b[0m\u001b[1;33m,\u001b[0m \u001b[0my\u001b[0m\u001b[1;33m,\u001b[0m \u001b[0mpolynom\u001b[0m\u001b[1;33m,\u001b[0m \u001b[1;36m0.005\u001b[0m\u001b[1;33m)\u001b[0m\u001b[1;33m\u001b[0m\u001b[0m\n\u001b[0m\u001b[0;32m      7\u001b[0m     \u001b[0mer\u001b[0m \u001b[1;33m=\u001b[0m \u001b[0merror\u001b[0m \u001b[1;33m(\u001b[0m\u001b[0mtest_set_x\u001b[0m\u001b[1;33m,\u001b[0m \u001b[0mtest_set_y\u001b[0m\u001b[1;33m,\u001b[0m \u001b[0mparameters\u001b[0m\u001b[1;33m)\u001b[0m\u001b[1;33m\u001b[0m\u001b[0m\n\u001b[0;32m      8\u001b[0m     \u001b[1;32mprint\u001b[0m \u001b[0mer\u001b[0m\u001b[1;33m\u001b[0m\u001b[0m\n",
      "\u001b[1;32m<ipython-input-41-7a73377027bc>\u001b[0m in \u001b[0;36mlinear_regression\u001b[1;34m(xs, ys, num_param, alpha)\u001b[0m\n\u001b[0;32m     18\u001b[0m             \u001b[0mpowered_x\u001b[0m \u001b[1;33m=\u001b[0m \u001b[1;36m1\u001b[0m\u001b[1;33m\u001b[0m\u001b[0m\n\u001b[0;32m     19\u001b[0m             \u001b[1;32mfor\u001b[0m \u001b[0mi\u001b[0m \u001b[1;32min\u001b[0m \u001b[0mrange\u001b[0m\u001b[1;33m(\u001b[0m\u001b[0mlen\u001b[0m\u001b[1;33m(\u001b[0m\u001b[0mparameters\u001b[0m\u001b[1;33m)\u001b[0m\u001b[1;33m)\u001b[0m\u001b[1;33m:\u001b[0m\u001b[1;33m\u001b[0m\u001b[0m\n\u001b[1;32m---> 20\u001b[1;33m                 \u001b[0mparameters\u001b[0m\u001b[1;33m[\u001b[0m\u001b[0mi\u001b[0m\u001b[1;33m]\u001b[0m \u001b[1;33m=\u001b[0m \u001b[0mparameters\u001b[0m\u001b[1;33m[\u001b[0m\u001b[0mi\u001b[0m\u001b[1;33m]\u001b[0m \u001b[1;33m+\u001b[0m \u001b[0malpha\u001b[0m \u001b[1;33m*\u001b[0m \u001b[1;33m(\u001b[0m\u001b[0mys\u001b[0m\u001b[1;33m[\u001b[0m\u001b[0mj\u001b[0m\u001b[1;33m]\u001b[0m \u001b[1;33m-\u001b[0m \u001b[0mhypo\u001b[0m\u001b[1;33m)\u001b[0m \u001b[1;33m*\u001b[0m \u001b[0mpowered_x\u001b[0m\u001b[1;33m\u001b[0m\u001b[0m\n\u001b[0m\u001b[0;32m     21\u001b[0m                 \u001b[0mpowered_x\u001b[0m \u001b[1;33m=\u001b[0m \u001b[0mpowered_x\u001b[0m \u001b[1;33m*\u001b[0m \u001b[0mx\u001b[0m\u001b[1;33m\u001b[0m\u001b[0m\n\u001b[0;32m     22\u001b[0m \u001b[1;33m\u001b[0m\u001b[0m\n",
      "\u001b[1;31mKeyboardInterrupt\u001b[0m: "
     ]
    }
   ],
   "source": [
    "## train model\n",
    "best_polynome = 0\n",
    "best_error = 100\n",
    "\n",
    "for polynom in range(1, 25):\n",
    "    parameters = linear_regression (x, y, polynom, 0.005)\n",
    "    er = error (test_set_x, test_set_y, parameters)\n",
    "    print er\n",
    "    if er < best_error:\n",
    "        best_error = er\n",
    "        best_polynome = polynom\n",
    "\n",
    "print best_polynome\n",
    "print best_error\n",
    "\n",
    "model = calc_hypo (parameters, x)"
   ]
  },
  {
   "cell_type": "code",
   "execution_count": 71,
   "metadata": {
    "collapsed": false
   },
   "outputs": [],
   "source": [
    "parameters = linear_regression (x, y, 7, 0.01)\n",
    "err = error(x, y, parameters)\n",
    "\n",
    "parameters1 = linear_regression (x, y, 4, 0.01)\n",
    "err1 = error(x, y, parameters1)\n",
    "\n",
    "parameters2 = linear_regression (x, y, 8, 0.01)\n",
    "err2 = error(x, y, parameters2)\n",
    "\n",
    "x_sorted = np.arange(0,1,0.01)\n",
    "model = calc_hypo (parameters, x_sorted)"
   ]
  },
  {
   "cell_type": "code",
   "execution_count": 74,
   "metadata": {
    "collapsed": false
   },
   "outputs": [],
   "source": [
    "x_sorted = np.arange(0,1,0.01)\n",
    "model = calc_hypo (parameters2, x_sorted)"
   ]
  },
  {
   "cell_type": "code",
   "execution_count": 72,
   "metadata": {
    "collapsed": false
   },
   "outputs": [
    {
     "name": "stdout",
     "output_type": "stream",
     "text": [
      "model 1\n",
      "0.258222142179\n",
      "0.0510749296007\n",
      "\n",
      "model2\n",
      "0.375708541967\n",
      "0.0814439150915\n",
      "\n",
      "model3\n",
      "0.198075085725\n",
      "0.0589390350048\n"
     ]
    }
   ],
   "source": [
    "test_err = error(test_set_x, test_set_y, parameters)\n",
    "test_err1 = error(test_set_x, test_set_y, parameters1)\n",
    "test_err2 = error(test_set_x, test_set_y, parameters2)\n",
    "\n",
    "print \"model 1\"\n",
    "print err\n",
    "print test_err\n",
    "\n",
    "print \"\\nmodel2\"\n",
    "print err1\n",
    "print test_err1\n",
    "\n",
    "print \"\\nmodel3\"\n",
    "print err2\n",
    "print test_err2"
   ]
  },
  {
   "cell_type": "code",
   "execution_count": 75,
   "metadata": {
    "collapsed": true
   },
   "outputs": [],
   "source": [
    "perfect_sine = 2 + np.sin(2 * np.pi * x_sorted)"
   ]
  },
  {
   "cell_type": "code",
   "execution_count": 76,
   "metadata": {
    "collapsed": false
   },
   "outputs": [
    {
     "data": {
      "image/png": "[encoded data removed]",
      "text/plain": [
       "<matplotlib.figure.Figure at 0xe827ba8>"
      ]
     },
     "metadata": {},
     "output_type": "display_data"
    }
   ],
   "source": [
    "fig_size = [0,0]\n",
    "fig_size[0] = 12\n",
    "fig_size[1] = 9\n",
    "plt.rcParams[\"figure.figsize\"] = fig_size\n",
    "\n",
    "line1, = plt.plot(x, y, '.g', label=\"Data\")\n",
    "line2, = plt.plot(x_sorted, model, '-b', label=\"Learned Function\", linewidth = 2)\n",
    "line3, = plt.plot(x_sorted, perfect_sine, '-y', label=\"Perfect Sine\")\n",
    "\n",
    "# Create a legend for the first line.\n",
    "first_legend = plt.legend(handles=[line1, line2, line3], loc=1)"
   ]
  },
  {
   "cell_type": "code",
   "execution_count": 79,
   "metadata": {
    "collapsed": false
   },
   "outputs": [
    {
     "name": "stdout",
     "output_type": "stream",
     "text": [
      "[1.782863524617357, 10.226254127197031, -21.254052906337247, -4.8290857552471094, 10.44898836672458, 12.58494094463024, 3.9600298024305194, -10.923115604587759]\n"
     ]
    }
   ],
   "source": [
    "print parameters2\n"
   ]
  },
  {
   "cell_type": "code",
   "execution_count": null,
   "metadata": {
    "collapsed": true
   },
   "outputs": [],
   "source": []
  }
 ],
 "metadata": {
  "kernelspec": {
   "display_name": "Python 2",
   "language": "python",
   "name": "python2"
  },
  "language_info": {
   "codemirror_mode": {
    "name": "ipython",
    "version": 2
   },
   "file_extension": ".py",
   "mimetype": "text/x-python",
   "name": "python",
   "nbconvert_exporter": "python",
   "pygments_lexer": "ipython2",
   "version": "2.7.10"
  }
 },
 "nbformat": 4,
 "nbformat_minor": 0
}
